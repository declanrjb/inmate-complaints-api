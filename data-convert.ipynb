{
 "cells": [
  {
   "cell_type": "markdown",
   "metadata": {},
   "source": [
    "# Convert CSV to sqlite"
   ]
  },
  {
   "cell_type": "code",
   "execution_count": 33,
   "metadata": {},
   "outputs": [],
   "source": [
    "import pandas as pd\n",
    "import sqlite3\n",
    "import os\n",
    "import json"
   ]
  },
  {
   "cell_type": "code",
   "execution_count": 34,
   "metadata": {},
   "outputs": [],
   "source": [
    "data_dir = 'data/'\n",
    "files = [data_dir + file for file in os.listdir(data_dir)]"
   ]
  },
  {
   "cell_type": "code",
   "execution_count": 35,
   "metadata": {},
   "outputs": [],
   "source": [
    "df = pd.concat([pd.read_csv(file) for file in files])"
   ]
  },
  {
   "cell_type": "code",
   "execution_count": 36,
   "metadata": {},
   "outputs": [],
   "source": [
    "df = df[['Case_Number','Case_Status','Subject_Primary','Subject_Secondary','Facility_Occurred','Facility_Received','Received_Date','Due_Date','Latest_Status_Date','Status_Reasons','City','State']]"
   ]
  },
  {
   "cell_type": "code",
   "execution_count": 37,
   "metadata": {},
   "outputs": [],
   "source": [
    "selector_options = {}\n",
    "for col in df.columns:\n",
    "    if col != 'Case_Number':\n",
    "        unique_vals = list(df[col].unique())\n",
    "        unique_vals = [str(val) for val in unique_vals]\n",
    "        selector_options[col] = unique_vals\n",
    "selector_options['Show_Columns'] = list(df.columns)\n",
    "with open('web-app/data-summary.json','w') as out_file:\n",
    "    json.dump(selector_options,out_file)"
   ]
  },
  {
   "cell_type": "code",
   "execution_count": 38,
   "metadata": {},
   "outputs": [],
   "source": [
    "# Create energy.sqlite3 database\n",
    "conn = sqlite3.connect('database.sqlite3')\n",
    "\n",
    "# Write the data to a sqlite table\n",
    "df.to_sql('data', conn, if_exists='replace', index=False)\n",
    "\n",
    "conn.close()"
   ]
  }
 ],
 "metadata": {
  "kernelspec": {
   "display_name": "Python 3 (ipykernel)",
   "language": "python",
   "name": "python3"
  },
  "language_info": {
   "codemirror_mode": {
    "name": "ipython",
    "version": 3
   },
   "file_extension": ".py",
   "mimetype": "text/x-python",
   "name": "python",
   "nbconvert_exporter": "python",
   "pygments_lexer": "ipython3",
   "version": "3.11.8"
  }
 },
 "nbformat": 4,
 "nbformat_minor": 4
}
