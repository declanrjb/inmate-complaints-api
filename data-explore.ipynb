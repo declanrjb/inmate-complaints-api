{
 "cells": [
  {
   "cell_type": "code",
   "execution_count": 1,
   "metadata": {},
   "outputs": [],
   "source": [
    "import pandas as pd"
   ]
  },
  {
   "cell_type": "code",
   "execution_count": 2,
   "metadata": {},
   "outputs": [],
   "source": [
    "df = pd.read_csv('powerplants.csv')"
   ]
  },
  {
   "cell_type": "code",
   "execution_count": 7,
   "metadata": {},
   "outputs": [
    {
     "data": {
      "text/plain": [
       "array([    2,     3,     4, ..., 60499, 60500, 60501])"
      ]
     },
     "execution_count": 7,
     "metadata": {},
     "output_type": "execute_result"
    }
   ],
   "source": [
    "df['plant_code'].unique()"
   ]
  },
  {
   "cell_type": "code",
   "execution_count": 8,
   "metadata": {},
   "outputs": [
    {
     "data": {
      "text/plain": [
       "plant_code          int64\n",
       "plant_name         object\n",
       "utility_name       object\n",
       "utility_id          int64\n",
       "sector_name        object\n",
       "city               object\n",
       "county             object\n",
       "zip                 int64\n",
       "street_address     object\n",
       "primary_source     object\n",
       "total_mw          float64\n",
       "coal_mw           float64\n",
       "ng_mw             float64\n",
       "crude_mw          float64\n",
       "bio_mw            float64\n",
       "hydro_mw          float64\n",
       "hydro_mw.1        float64\n",
       "nuclear_mw        float64\n",
       "solar_mw          float64\n",
       "wind_mw           float64\n",
       "geo_mw            float64\n",
       "other_mw          float64\n",
       "source_des         object\n",
       "tech_desc          object\n",
       "source             object\n",
       "period              int64\n",
       "latitude          float64\n",
       "longitude         float64\n",
       "dtype: object"
      ]
     },
     "execution_count": 8,
     "metadata": {},
     "output_type": "execute_result"
    }
   ],
   "source": [
    "df.dtypes"
   ]
  },
  {
   "cell_type": "code",
   "execution_count": 11,
   "metadata": {},
   "outputs": [
    {
     "data": {
      "text/plain": [
       "0              Alabama Power Co\n",
       "1              Alabama Power Co\n",
       "2              Alabama Power Co\n",
       "3              Alabama Power Co\n",
       "4              Alabama Power Co\n",
       "                 ...           \n",
       "7605    DG Bethlehem Solar, LLC\n",
       "7606      Germantown Solar, LLC\n",
       "7607            Hartz Solar LLC\n",
       "7608            Hartz Solar LLC\n",
       "7609            Hartz Solar LLC\n",
       "Name: utility_name, Length: 7610, dtype: object"
      ]
     },
     "execution_count": 11,
     "metadata": {},
     "output_type": "execute_result"
    }
   ],
   "source": [
    "df['utility_name']"
   ]
  },
  {
   "cell_type": "markdown",
   "metadata": {},
   "source": []
  },
  {
   "cell_type": "code",
   "execution_count": 12,
   "metadata": {},
   "outputs": [
    {
     "data": {
      "text/plain": [
       "0         Electric Utility\n",
       "1         Electric Utility\n",
       "2         Electric Utility\n",
       "3         Electric Utility\n",
       "4         Electric Utility\n",
       "               ...        \n",
       "7605           IPP Non-CHP\n",
       "7606           IPP Non-CHP\n",
       "7607    Commercial Non-CHP\n",
       "7608    Commercial Non-CHP\n",
       "7609    Commercial Non-CHP\n",
       "Name: sector_name, Length: 7610, dtype: object"
      ]
     },
     "execution_count": 12,
     "metadata": {},
     "output_type": "execute_result"
    }
   ],
   "source": [
    "df['sector_name']"
   ]
  },
  {
   "cell_type": "code",
   "execution_count": null,
   "metadata": {},
   "outputs": [],
   "source": []
  }
 ],
 "metadata": {
  "kernelspec": {
   "display_name": "Python 3",
   "language": "python",
   "name": "python3"
  },
  "language_info": {
   "codemirror_mode": {
    "name": "ipython",
    "version": 3
   },
   "file_extension": ".py",
   "mimetype": "text/x-python",
   "name": "python",
   "nbconvert_exporter": "python",
   "pygments_lexer": "ipython3",
   "version": "3.11.8"
  }
 },
 "nbformat": 4,
 "nbformat_minor": 2
}
